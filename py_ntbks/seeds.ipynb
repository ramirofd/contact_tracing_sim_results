{
 "cells": [
  {
   "cell_type": "code",
   "execution_count": 26,
   "outputs": [],
   "source": [
    "import numpy as np\n",
    "import pandas as pd\n",
    "\n",
    "# import seaborn as sns\n",
    "# from matplotlib import pyplot as plt\n",
    "\n",
    "from utils import load_results_dataframe"
   ],
   "metadata": {
    "collapsed": false,
    "pycharm": {
     "name": "#%%\n"
    }
   }
  },
  {
   "cell_type": "code",
   "execution_count": 47,
   "outputs": [],
   "source": [
    "seeds = [5, 10, 20]\n",
    "times = [5, 20, 60]\n",
    "angles = [15, 30, 60, 90]\n",
    "speeds = [0.5, 1, 2, 4]\n",
    "bts = list(np.arange(0.5, 20.5, 0.5)) #seconds\n",
    "lp = 0.1 #seconds\n",
    "wt = 5 #seconds\n",
    "model = 'LinearMobility'\n",
    "node = 1\n",
    "\n",
    "full_df = pd.DataFrame()\n",
    "for seed in seeds:\n",
    "    for time in times:\n",
    "        for angle in angles:\n",
    "            for speed in speeds:\n",
    "                path = f'../{model}/seed{seed}_time{time}_angle{angle}_speed{speed}'\n",
    "                for bt in bts:\n",
    "                    df = load_results_dataframe(node, bt, lp, wt, time, path)\n",
    "                    df['seed'] = seed\n",
    "                    df['time'] = time\n",
    "                    df['angle'] = angle\n",
    "                    df['speed'] = speed\n",
    "                    full_df = pd.concat([full_df, df])"
   ],
   "metadata": {
    "collapsed": false,
    "pycharm": {
     "name": "#%%\n"
    }
   }
  },
  {
   "cell_type": "code",
   "execution_count": 48,
   "outputs": [],
   "source": [
    "full_df.to_csv(f'../{model}.csv')"
   ],
   "metadata": {
    "collapsed": false,
    "pycharm": {
     "name": "#%%\n"
    }
   }
  },
  {
   "cell_type": "code",
   "execution_count": 46,
   "outputs": [
    {
     "data": {
      "text/plain": "     node  seen_id  broadcast_time  frequency  angle  seed  speed  time  \\\n0       1        2             0.5   2.000000     15     5    0.5    20   \n1       1        2             0.5   2.000000     30     5    0.5    20   \n2       1        2             0.5   2.000000     60     5    0.5    20   \n3       1        2             0.5   2.000000     90     5    0.5    20   \n4       1        2             1.0   1.000000     15     5    0.5    20   \n..    ...      ...             ...        ...    ...   ...    ...   ...   \n155     1        2            19.5   0.051282     90     5    0.5    20   \n156     1        2            20.0   0.050000     15     5    0.5    20   \n157     1        2            20.0   0.050000     30     5    0.5    20   \n158     1        2            20.0   0.050000     60     5    0.5    20   \n159     1        2            20.0   0.050000     90     5    0.5    20   \n\n     window_duration  log_position_time  \n0              373.5                7.8  \n1              373.5                7.8  \n2              373.5                7.8  \n3              373.5                7.8  \n4              338.0                7.6  \n..               ...                ...  \n155             97.5                1.3  \n156            240.0                1.9  \n157            240.0                1.9  \n158            240.0                1.9  \n159            240.0                1.9  \n\n[160 rows x 10 columns]",
      "text/html": "<div>\n<style scoped>\n    .dataframe tbody tr th:only-of-type {\n        vertical-align: middle;\n    }\n\n    .dataframe tbody tr th {\n        vertical-align: top;\n    }\n\n    .dataframe thead th {\n        text-align: right;\n    }\n</style>\n<table border=\"1\" class=\"dataframe\">\n  <thead>\n    <tr style=\"text-align: right;\">\n      <th></th>\n      <th>node</th>\n      <th>seen_id</th>\n      <th>broadcast_time</th>\n      <th>frequency</th>\n      <th>angle</th>\n      <th>seed</th>\n      <th>speed</th>\n      <th>time</th>\n      <th>window_duration</th>\n      <th>log_position_time</th>\n    </tr>\n  </thead>\n  <tbody>\n    <tr>\n      <th>0</th>\n      <td>1</td>\n      <td>2</td>\n      <td>0.5</td>\n      <td>2.000000</td>\n      <td>15</td>\n      <td>5</td>\n      <td>0.5</td>\n      <td>20</td>\n      <td>373.5</td>\n      <td>7.8</td>\n    </tr>\n    <tr>\n      <th>1</th>\n      <td>1</td>\n      <td>2</td>\n      <td>0.5</td>\n      <td>2.000000</td>\n      <td>30</td>\n      <td>5</td>\n      <td>0.5</td>\n      <td>20</td>\n      <td>373.5</td>\n      <td>7.8</td>\n    </tr>\n    <tr>\n      <th>2</th>\n      <td>1</td>\n      <td>2</td>\n      <td>0.5</td>\n      <td>2.000000</td>\n      <td>60</td>\n      <td>5</td>\n      <td>0.5</td>\n      <td>20</td>\n      <td>373.5</td>\n      <td>7.8</td>\n    </tr>\n    <tr>\n      <th>3</th>\n      <td>1</td>\n      <td>2</td>\n      <td>0.5</td>\n      <td>2.000000</td>\n      <td>90</td>\n      <td>5</td>\n      <td>0.5</td>\n      <td>20</td>\n      <td>373.5</td>\n      <td>7.8</td>\n    </tr>\n    <tr>\n      <th>4</th>\n      <td>1</td>\n      <td>2</td>\n      <td>1.0</td>\n      <td>1.000000</td>\n      <td>15</td>\n      <td>5</td>\n      <td>0.5</td>\n      <td>20</td>\n      <td>338.0</td>\n      <td>7.6</td>\n    </tr>\n    <tr>\n      <th>...</th>\n      <td>...</td>\n      <td>...</td>\n      <td>...</td>\n      <td>...</td>\n      <td>...</td>\n      <td>...</td>\n      <td>...</td>\n      <td>...</td>\n      <td>...</td>\n      <td>...</td>\n    </tr>\n    <tr>\n      <th>155</th>\n      <td>1</td>\n      <td>2</td>\n      <td>19.5</td>\n      <td>0.051282</td>\n      <td>90</td>\n      <td>5</td>\n      <td>0.5</td>\n      <td>20</td>\n      <td>97.5</td>\n      <td>1.3</td>\n    </tr>\n    <tr>\n      <th>156</th>\n      <td>1</td>\n      <td>2</td>\n      <td>20.0</td>\n      <td>0.050000</td>\n      <td>15</td>\n      <td>5</td>\n      <td>0.5</td>\n      <td>20</td>\n      <td>240.0</td>\n      <td>1.9</td>\n    </tr>\n    <tr>\n      <th>157</th>\n      <td>1</td>\n      <td>2</td>\n      <td>20.0</td>\n      <td>0.050000</td>\n      <td>30</td>\n      <td>5</td>\n      <td>0.5</td>\n      <td>20</td>\n      <td>240.0</td>\n      <td>1.9</td>\n    </tr>\n    <tr>\n      <th>158</th>\n      <td>1</td>\n      <td>2</td>\n      <td>20.0</td>\n      <td>0.050000</td>\n      <td>60</td>\n      <td>5</td>\n      <td>0.5</td>\n      <td>20</td>\n      <td>240.0</td>\n      <td>1.9</td>\n    </tr>\n    <tr>\n      <th>159</th>\n      <td>1</td>\n      <td>2</td>\n      <td>20.0</td>\n      <td>0.050000</td>\n      <td>90</td>\n      <td>5</td>\n      <td>0.5</td>\n      <td>20</td>\n      <td>240.0</td>\n      <td>1.9</td>\n    </tr>\n  </tbody>\n</table>\n<p>160 rows × 10 columns</p>\n</div>"
     },
     "execution_count": 46,
     "metadata": {},
     "output_type": "execute_result"
    }
   ],
   "source": [
    "time = 20\n",
    "seed = 5\n",
    "speed = 0.5\n",
    "angles = [15, 30, 60, 90]\n",
    "\n",
    "angles_df = full_df[(full_df['time']==time) & (full_df['seed']==seed) & (full_df['speed']==speed) & (full_df['angle'].isin(angles))]\n",
    "# full_df[(full_df['sim_time']==time)]\n",
    "angles_df.drop([\"told_by\", \"hop\", \"start\", \"end\", \"sim_time\"], axis=1).groupby([\"node\", \"seen_id\", \"broadcast_time\", \"frequency\", \"angle\", \"seed\", \"speed\", \"time\"], as_index=False).sum()"
   ],
   "metadata": {
    "collapsed": false,
    "pycharm": {
     "name": "#%%\n"
    }
   }
  },
  {
   "cell_type": "code",
   "execution_count": null,
   "outputs": [],
   "source": [],
   "metadata": {
    "collapsed": false,
    "pycharm": {
     "name": "#%%\n"
    }
   }
  }
 ],
 "metadata": {
  "kernelspec": {
   "display_name": "Python 3",
   "language": "python",
   "name": "python3"
  },
  "language_info": {
   "codemirror_mode": {
    "name": "ipython",
    "version": 2
   },
   "file_extension": ".py",
   "mimetype": "text/x-python",
   "name": "python",
   "nbconvert_exporter": "python",
   "pygments_lexer": "ipython2",
   "version": "2.7.6"
  }
 },
 "nbformat": 4,
 "nbformat_minor": 0
}