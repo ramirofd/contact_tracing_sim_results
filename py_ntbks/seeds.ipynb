{
 "cells": [
  {
   "cell_type": "code",
   "execution_count": 26,
   "outputs": [],
   "source": [
    "import pandas as pd\n",
    "import numpy as np\n",
    "import seaborn as sns\n",
    "from matplotlib import pyplot as plt\n",
    "\n",
    "\n",
    "def load_dataframe(node, broadcast_time, log_position_time, window_time_threshold, sim_time, path, type, header):\n",
    "    filename_node = f\"{path}/n{node}_{window_time_threshold:.2f}wt-{broadcast_time:.2f}bt-{log_position_time:.2f}lp_{type}.csv\"\n",
    "    try:\n",
    "        df = pd.read_csv(filename_node, names=header)\n",
    "        df['window_duration'] = df['end']-df['start']\n",
    "        df['broadcast_time'] = broadcast_time\n",
    "        df['frequency'] = 1/broadcast_time\n",
    "        df['log_position_time'] = log_position_time\n",
    "        df['sim_time'] = sim_time*60\n",
    "        return df\n",
    "\n",
    "    except FileNotFoundError:\n",
    "        print(\"File Not Found\")\n",
    "\n",
    "\n",
    "def load_results_dataframe(node, broadcast_time, log_position_time, window_time_threshold, sim_time, path):\n",
    "    header = [\"node\", \"broadcast_time\", \"seen_id\", \"told_by\", \"hop\", \"start\", \"end\"]\n",
    "    type_ = 'results'\n",
    "\n",
    "    return load_dataframe(node, broadcast_time, log_position_time, window_time_threshold, sim_time, path, type_, header)"
   ],
   "metadata": {
    "collapsed": false,
    "pycharm": {
     "name": "#%%\n"
    }
   }
  },
  {
   "cell_type": "code",
   "execution_count": 27,
   "metadata": {
    "collapsed": true,
    "pycharm": {
     "name": "#%%\n"
    }
   },
   "outputs": [
    {
     "data": {
      "text/plain": "    node  broadcast_time  seen_id  told_by  hop  start    end  \\\n0      1             0.5        2       -1    1    0.5    3.0   \n1      1             0.5        2       -1    1   11.0   13.0   \n2      1             0.5        2       -1    1   20.5   23.5   \n3      1             0.5        2       -1    1   24.5   26.5   \n4      1             0.5        2       -1    1   31.5   33.0   \n..   ...             ...      ...      ...  ...    ...    ...   \n65     1             0.5        2       -1    1  260.0  263.0   \n66     1             0.5        2       -1    1  267.5  269.0   \n67     1             0.5        2       -1    1  278.0  283.0   \n68     1             0.5        2       -1    1  294.5  296.0   \n69     1             0.5        2       -1    1  300.0  300.0   \n\n    window_duration  frequency  log_position_time  sim_time  \n0               2.5        2.0                0.1      1200  \n1               2.0        2.0                0.1      1200  \n2               3.0        2.0                0.1      1200  \n3               2.0        2.0                0.1      1200  \n4               1.5        2.0                0.1      1200  \n..              ...        ...                ...       ...  \n65              3.0        2.0                0.1      1200  \n66              1.5        2.0                0.1      1200  \n67              5.0        2.0                0.1      1200  \n68              1.5        2.0                0.1      1200  \n69              0.0        2.0                0.1      1200  \n\n[70 rows x 11 columns]",
      "text/html": "<div>\n<style scoped>\n    .dataframe tbody tr th:only-of-type {\n        vertical-align: middle;\n    }\n\n    .dataframe tbody tr th {\n        vertical-align: top;\n    }\n\n    .dataframe thead th {\n        text-align: right;\n    }\n</style>\n<table border=\"1\" class=\"dataframe\">\n  <thead>\n    <tr style=\"text-align: right;\">\n      <th></th>\n      <th>node</th>\n      <th>broadcast_time</th>\n      <th>seen_id</th>\n      <th>told_by</th>\n      <th>hop</th>\n      <th>start</th>\n      <th>end</th>\n      <th>window_duration</th>\n      <th>frequency</th>\n      <th>log_position_time</th>\n      <th>sim_time</th>\n    </tr>\n  </thead>\n  <tbody>\n    <tr>\n      <th>0</th>\n      <td>1</td>\n      <td>0.5</td>\n      <td>2</td>\n      <td>-1</td>\n      <td>1</td>\n      <td>0.5</td>\n      <td>3.0</td>\n      <td>2.5</td>\n      <td>2.0</td>\n      <td>0.1</td>\n      <td>1200</td>\n    </tr>\n    <tr>\n      <th>1</th>\n      <td>1</td>\n      <td>0.5</td>\n      <td>2</td>\n      <td>-1</td>\n      <td>1</td>\n      <td>11.0</td>\n      <td>13.0</td>\n      <td>2.0</td>\n      <td>2.0</td>\n      <td>0.1</td>\n      <td>1200</td>\n    </tr>\n    <tr>\n      <th>2</th>\n      <td>1</td>\n      <td>0.5</td>\n      <td>2</td>\n      <td>-1</td>\n      <td>1</td>\n      <td>20.5</td>\n      <td>23.5</td>\n      <td>3.0</td>\n      <td>2.0</td>\n      <td>0.1</td>\n      <td>1200</td>\n    </tr>\n    <tr>\n      <th>3</th>\n      <td>1</td>\n      <td>0.5</td>\n      <td>2</td>\n      <td>-1</td>\n      <td>1</td>\n      <td>24.5</td>\n      <td>26.5</td>\n      <td>2.0</td>\n      <td>2.0</td>\n      <td>0.1</td>\n      <td>1200</td>\n    </tr>\n    <tr>\n      <th>4</th>\n      <td>1</td>\n      <td>0.5</td>\n      <td>2</td>\n      <td>-1</td>\n      <td>1</td>\n      <td>31.5</td>\n      <td>33.0</td>\n      <td>1.5</td>\n      <td>2.0</td>\n      <td>0.1</td>\n      <td>1200</td>\n    </tr>\n    <tr>\n      <th>...</th>\n      <td>...</td>\n      <td>...</td>\n      <td>...</td>\n      <td>...</td>\n      <td>...</td>\n      <td>...</td>\n      <td>...</td>\n      <td>...</td>\n      <td>...</td>\n      <td>...</td>\n      <td>...</td>\n    </tr>\n    <tr>\n      <th>65</th>\n      <td>1</td>\n      <td>0.5</td>\n      <td>2</td>\n      <td>-1</td>\n      <td>1</td>\n      <td>260.0</td>\n      <td>263.0</td>\n      <td>3.0</td>\n      <td>2.0</td>\n      <td>0.1</td>\n      <td>1200</td>\n    </tr>\n    <tr>\n      <th>66</th>\n      <td>1</td>\n      <td>0.5</td>\n      <td>2</td>\n      <td>-1</td>\n      <td>1</td>\n      <td>267.5</td>\n      <td>269.0</td>\n      <td>1.5</td>\n      <td>2.0</td>\n      <td>0.1</td>\n      <td>1200</td>\n    </tr>\n    <tr>\n      <th>67</th>\n      <td>1</td>\n      <td>0.5</td>\n      <td>2</td>\n      <td>-1</td>\n      <td>1</td>\n      <td>278.0</td>\n      <td>283.0</td>\n      <td>5.0</td>\n      <td>2.0</td>\n      <td>0.1</td>\n      <td>1200</td>\n    </tr>\n    <tr>\n      <th>68</th>\n      <td>1</td>\n      <td>0.5</td>\n      <td>2</td>\n      <td>-1</td>\n      <td>1</td>\n      <td>294.5</td>\n      <td>296.0</td>\n      <td>1.5</td>\n      <td>2.0</td>\n      <td>0.1</td>\n      <td>1200</td>\n    </tr>\n    <tr>\n      <th>69</th>\n      <td>1</td>\n      <td>0.5</td>\n      <td>2</td>\n      <td>-1</td>\n      <td>1</td>\n      <td>300.0</td>\n      <td>300.0</td>\n      <td>0.0</td>\n      <td>2.0</td>\n      <td>0.1</td>\n      <td>1200</td>\n    </tr>\n  </tbody>\n</table>\n<p>70 rows × 11 columns</p>\n</div>"
     },
     "execution_count": 27,
     "metadata": {},
     "output_type": "execute_result"
    }
   ],
   "source": [
    "# Parameters for calculations\n",
    "# nodeA_id = 1\n",
    "# nodeB_id = 2\n",
    "# broadcast_times = list(np.arange(0.5, 20.5, 0.5)) #seconds\n",
    "# log_position_time = 0.1 #seconds\n",
    "# window_time_threshold = 5\n",
    "# sim_times = [5, 20, 60] #minutes\n",
    "# seeds = [5, 10, 20]\n",
    "# sim_time_seg = sim_time*60\n",
    "df = load_results_dataframe(1, 0.5, 0.1, 5, 20, f'../seed_5/5min_nowt/')\n",
    "\n",
    "# for seed in seeds:\n",
    "#     for time in sim_times:\n",
    "#         for btime in broadcast_times:\n",
    "df"
   ]
  },
  {
   "cell_type": "code",
   "execution_count": 18,
   "outputs": [],
   "source": [],
   "metadata": {
    "collapsed": false,
    "pycharm": {
     "name": "#%%\n"
    }
   }
  }
 ],
 "metadata": {
  "kernelspec": {
   "display_name": "Python 3",
   "language": "python",
   "name": "python3"
  },
  "language_info": {
   "codemirror_mode": {
    "name": "ipython",
    "version": 2
   },
   "file_extension": ".py",
   "mimetype": "text/x-python",
   "name": "python",
   "nbconvert_exporter": "python",
   "pygments_lexer": "ipython2",
   "version": "2.7.6"
  }
 },
 "nbformat": 4,
 "nbformat_minor": 0
}