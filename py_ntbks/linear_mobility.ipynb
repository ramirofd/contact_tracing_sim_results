{
 "cells": [
  {
   "cell_type": "code",
   "execution_count": 1,
   "outputs": [],
   "source": [
    "import pandas as pd\n",
    "import numpy as np\n",
    "import seaborn as sns\n",
    "from matplotlib import pyplot as plt\n",
    "from utils import load_position_dataframe\n",
    "full_df = pd.read_csv('../LinearMobility_results.csv')\n",
    "\n",
    "def build_position_dataframe(model_, seed_, angle_, speed_, nodes_, broadcast_times, log_position_time, window_threshold_time, sim_time):\n",
    "    path = f'../{model_}/seed{seed_}_time{time}_angle{angle_}_speed{speed_}'\n",
    "    common_columns = ['timestamp', 'frequency', 'sim_time', 'broadcast_time', 'log_position_time']\n",
    "    this_df = pd.DataFrame()\n",
    "    for bt in broadcast_times:\n",
    "        partial_df = load_position_dataframe(nodes_[0], bt, log_position_time, window_threshold_time, sim_time, path)\n",
    "        for node in nodes_:\n",
    "            if node!=nodes_[0]:\n",
    "                df = load_position_dataframe(node, bt, log_position_time, window_threshold_time, sim_time, path)\n",
    "                partial_df = partial_df.merge(df, how='outer', left_on=common_columns, right_on=common_columns).fillna(0)\n",
    "            # partial_df = pd.concat([partial_df, df], axis=1)\n",
    "        partial_df['seed'] = seed_\n",
    "        partial_df['time'] = sim_time\n",
    "        partial_df['angle'] = angle_\n",
    "        partial_df['speed'] = speed_\n",
    "        this_df = pd.concat([this_df, partial_df])\n",
    "    return this_df"
   ],
   "metadata": {
    "collapsed": false,
    "pycharm": {
     "name": "#%%\n"
    }
   }
  },
  {
   "cell_type": "code",
   "execution_count": 2,
   "outputs": [
    {
     "ename": "AttributeError",
     "evalue": "'DataFrame' object has no attribute 'x_pos_A'",
     "output_type": "error",
     "traceback": [
      "\u001B[1;31m---------------------------------------------------------------------------\u001B[0m",
      "\u001B[1;31mAttributeError\u001B[0m                            Traceback (most recent call last)",
      "Input \u001B[1;32mIn [2]\u001B[0m, in \u001B[0;36m<cell line: 16>\u001B[1;34m()\u001B[0m\n\u001B[0;32m     13\u001B[0m     position_df \u001B[38;5;241m=\u001B[39m build_position_dataframe(model, seed, angle, speed, nodes, bts, lp, wt, time)\n\u001B[0;32m     14\u001B[0m     full_position_df \u001B[38;5;241m=\u001B[39m pd\u001B[38;5;241m.\u001B[39mconcat([full_position_df, position_df])\n\u001B[1;32m---> 16\u001B[0m full_position_df[\u001B[38;5;124m'\u001B[39m\u001B[38;5;124mdistance\u001B[39m\u001B[38;5;124m'\u001B[39m] \u001B[38;5;241m=\u001B[39m (np\u001B[38;5;241m.\u001B[39msqrt(np\u001B[38;5;241m.\u001B[39mpower(\u001B[43mfull_position_df\u001B[49m\u001B[38;5;241;43m.\u001B[39;49m\u001B[43mx_pos_A\u001B[49m\u001B[38;5;241m-\u001B[39mfull_position_df\u001B[38;5;241m.\u001B[39mx_pos_B, \u001B[38;5;241m2\u001B[39m)\u001B[38;5;241m+\u001B[39mnp\u001B[38;5;241m.\u001B[39mpower(full_position_df\u001B[38;5;241m.\u001B[39my_pos_A\u001B[38;5;241m-\u001B[39mfull_position_df\u001B[38;5;241m.\u001B[39my_pos_B, \u001B[38;5;241m2\u001B[39m)))\u001B[38;5;241m<\u001B[39m\u001B[38;5;241m2.0\u001B[39m\n",
      "File \u001B[1;32m~\\anaconda3\\lib\\site-packages\\pandas\\core\\generic.py:5575\u001B[0m, in \u001B[0;36mNDFrame.__getattr__\u001B[1;34m(self, name)\u001B[0m\n\u001B[0;32m   5568\u001B[0m \u001B[38;5;28;01mif\u001B[39;00m (\n\u001B[0;32m   5569\u001B[0m     name \u001B[38;5;129;01mnot\u001B[39;00m \u001B[38;5;129;01min\u001B[39;00m \u001B[38;5;28mself\u001B[39m\u001B[38;5;241m.\u001B[39m_internal_names_set\n\u001B[0;32m   5570\u001B[0m     \u001B[38;5;129;01mand\u001B[39;00m name \u001B[38;5;129;01mnot\u001B[39;00m \u001B[38;5;129;01min\u001B[39;00m \u001B[38;5;28mself\u001B[39m\u001B[38;5;241m.\u001B[39m_metadata\n\u001B[0;32m   5571\u001B[0m     \u001B[38;5;129;01mand\u001B[39;00m name \u001B[38;5;129;01mnot\u001B[39;00m \u001B[38;5;129;01min\u001B[39;00m \u001B[38;5;28mself\u001B[39m\u001B[38;5;241m.\u001B[39m_accessors\n\u001B[0;32m   5572\u001B[0m     \u001B[38;5;129;01mand\u001B[39;00m \u001B[38;5;28mself\u001B[39m\u001B[38;5;241m.\u001B[39m_info_axis\u001B[38;5;241m.\u001B[39m_can_hold_identifiers_and_holds_name(name)\n\u001B[0;32m   5573\u001B[0m ):\n\u001B[0;32m   5574\u001B[0m     \u001B[38;5;28;01mreturn\u001B[39;00m \u001B[38;5;28mself\u001B[39m[name]\n\u001B[1;32m-> 5575\u001B[0m \u001B[38;5;28;01mreturn\u001B[39;00m \u001B[38;5;28;43mobject\u001B[39;49m\u001B[38;5;241;43m.\u001B[39;49m\u001B[38;5;21;43m__getattribute__\u001B[39;49m\u001B[43m(\u001B[49m\u001B[38;5;28;43mself\u001B[39;49m\u001B[43m,\u001B[49m\u001B[43m \u001B[49m\u001B[43mname\u001B[49m\u001B[43m)\u001B[49m\n",
      "\u001B[1;31mAttributeError\u001B[0m: 'DataFrame' object has no attribute 'x_pos_A'"
     ]
    }
   ],
   "source": [
    "time = 60\n",
    "seed = 20\n",
    "speeds = [0.5, 1, 2, 4]\n",
    "angle = 30\n",
    "model = 'LinearMobility'\n",
    "bts = list(np.arange(1, 20.5, 0.5)) #seconds\n",
    "lp = 0.1 #seconds\n",
    "wt = 5 #seconds\n",
    "nodes = [1, 2]\n",
    "\n",
    "full_position_df = pd.DataFrame()\n",
    "for speed in speeds:\n",
    "    position_df = build_position_dataframe(model, seed, angle, speed, nodes, bts, lp, wt, time)\n",
    "    full_position_df = pd.concat([full_position_df, position_df])\n"
   ],
   "metadata": {
    "collapsed": false,
    "pycharm": {
     "name": "#%%\n"
    }
   }
  },
  {
   "cell_type": "code",
   "execution_count": 15,
   "outputs": [
    {
     "data": {
      "text/plain": "                                   distance\nnode_1 speed angle broadcast_time          \n0.1    0.05  3.0   0.10              1230.3\n                   0.15              1230.3\n                   0.20              1230.3\n                   0.25              1230.3\n                   0.30              1230.3\n...                                     ...\n       0.40  3.0   1.80              1237.5\n                   1.85              1237.5\n                   1.90              1237.5\n                   1.95              1237.5\n                   2.00              1237.5\n\n[156 rows x 1 columns]",
      "text/html": "<div>\n<style scoped>\n    .dataframe tbody tr th:only-of-type {\n        vertical-align: middle;\n    }\n\n    .dataframe tbody tr th {\n        vertical-align: top;\n    }\n\n    .dataframe thead th {\n        text-align: right;\n    }\n</style>\n<table border=\"1\" class=\"dataframe\">\n  <thead>\n    <tr style=\"text-align: right;\">\n      <th></th>\n      <th></th>\n      <th></th>\n      <th></th>\n      <th>distance</th>\n    </tr>\n    <tr>\n      <th>node_1</th>\n      <th>speed</th>\n      <th>angle</th>\n      <th>broadcast_time</th>\n      <th></th>\n    </tr>\n  </thead>\n  <tbody>\n    <tr>\n      <th rowspan=\"11\" valign=\"top\">0.1</th>\n      <th rowspan=\"5\" valign=\"top\">0.05</th>\n      <th rowspan=\"5\" valign=\"top\">3.0</th>\n      <th>0.10</th>\n      <td>1230.3</td>\n    </tr>\n    <tr>\n      <th>0.15</th>\n      <td>1230.3</td>\n    </tr>\n    <tr>\n      <th>0.20</th>\n      <td>1230.3</td>\n    </tr>\n    <tr>\n      <th>0.25</th>\n      <td>1230.3</td>\n    </tr>\n    <tr>\n      <th>0.30</th>\n      <td>1230.3</td>\n    </tr>\n    <tr>\n      <th>...</th>\n      <th>...</th>\n      <th>...</th>\n      <td>...</td>\n    </tr>\n    <tr>\n      <th rowspan=\"5\" valign=\"top\">0.40</th>\n      <th rowspan=\"5\" valign=\"top\">3.0</th>\n      <th>1.80</th>\n      <td>1237.5</td>\n    </tr>\n    <tr>\n      <th>1.85</th>\n      <td>1237.5</td>\n    </tr>\n    <tr>\n      <th>1.90</th>\n      <td>1237.5</td>\n    </tr>\n    <tr>\n      <th>1.95</th>\n      <td>1237.5</td>\n    </tr>\n    <tr>\n      <th>2.00</th>\n      <td>1237.5</td>\n    </tr>\n  </tbody>\n</table>\n<p>156 rows × 1 columns</p>\n</div>"
     },
     "execution_count": 15,
     "metadata": {},
     "output_type": "execute_result"
    }
   ],
   "source": [
    "full_position_df['distance'] = (np.sqrt(np.power(full_position_df.x_pos_1-full_position_df.x_pos_2, 2)+np.power(full_position_df.y_pos_1-full_position_df.y_pos_2, 2)))<2.0\n",
    "adj_check = (full_position_df.distance != full_position_df.distance.shift()).cumsum()\n",
    "time = full_position_df.groupby(['node_1','distance', 'speed', 'angle', 'broadcast_time', adj_check], as_index=False, sort=False)['distance'].sum()*0.1\n",
    "real_contact_time = time.groupby(['node_1', 'speed', 'angle', 'broadcast_time']).sum()\n",
    "real_contact_time"
   ],
   "metadata": {
    "collapsed": false,
    "pycharm": {
     "name": "#%%\n"
    }
   }
  },
  {
   "cell_type": "code",
   "execution_count": null,
   "outputs": [],
   "source": [
    "time = 60\n",
    "seed = 20\n",
    "speed = 0.5\n",
    "angles = [15, 30, 60, 90]\n",
    "\n",
    "angles_df = full_df[(full_df['time']==time) & (full_df['seed']==seed) & (full_df['speed']==speed) & (full_df['angle'].isin(angles))]\n",
    "angles_df = angles_df.drop([\"told_by\", \"hop\", \"start\", \"end\", \"sim_time\"], axis=1).groupby([\"node\", \"seen_id\", \"broadcast_time\", \"frequency\", \"angle\", \"seed\", \"speed\", \"time\"], as_index=False).sum()\n",
    "\n",
    "a4_dims = (16,9)\n",
    "fig, ax = plt.subplots(figsize=a4_dims)\n",
    "plot = sns.lineplot(data=angles_df[['frequency', 'angle', 'window_duration']], x=\"frequency\", y=\"window_duration\", hue='angle')\n",
    "plot.set(xscale='log')\n",
    "plt.show()"
   ],
   "metadata": {
    "collapsed": false,
    "pycharm": {
     "name": "#%%\n"
    }
   }
  },
  {
   "cell_type": "code",
   "execution_count": null,
   "outputs": [],
   "source": [
    "time = 60\n",
    "seed = 20\n",
    "speeds = [0.5, 1, 2, 4]\n",
    "angle = 30\n",
    "\n",
    "speeds_df = full_df[(full_df['time']==time) & (full_df['seed']==seed) & (full_df['speed'].isin(speeds)) & (full_df['angle']==angle)]\n",
    "speeds_df = speeds_df.drop([\"told_by\", \"hop\", \"start\", \"end\", \"sim_time\"], axis=1).groupby([\"node\", \"seen_id\", \"broadcast_time\", \"frequency\", \"angle\", \"seed\", \"speed\", \"time\"], as_index=False).sum()\n",
    "\n",
    "a4_dims = (16,9)\n",
    "fig, ax = plt.subplots(figsize=a4_dims)\n",
    "plot = sns.lineplot(data=speeds_df[['frequency', 'speed', 'window_duration']], x=\"frequency\", y=\"window_duration\", hue='speed')\n",
    "plot.set(xscale='log')\n",
    "plt.show()"
   ],
   "metadata": {
    "collapsed": false,
    "pycharm": {
     "name": "#%%\n"
    }
   }
  },
  {
   "cell_type": "code",
   "execution_count": null,
   "outputs": [],
   "source": [
    "full_position_df"
   ],
   "metadata": {
    "collapsed": false,
    "pycharm": {
     "name": "#%%\n"
    }
   }
  },
  {
   "cell_type": "code",
   "execution_count": null,
   "outputs": [],
   "source": [],
   "metadata": {
    "collapsed": false,
    "pycharm": {
     "name": "#%%\n"
    }
   }
  }
 ],
 "metadata": {
  "kernelspec": {
   "display_name": "Python 3",
   "language": "python",
   "name": "python3"
  },
  "language_info": {
   "codemirror_mode": {
    "name": "ipython",
    "version": 2
   },
   "file_extension": ".py",
   "mimetype": "text/x-python",
   "name": "python",
   "nbconvert_exporter": "python",
   "pygments_lexer": "ipython2",
   "version": "2.7.6"
  }
 },
 "nbformat": 4,
 "nbformat_minor": 0
}